{
 "cells": [
  {
   "cell_type": "markdown",
   "id": "df597399",
   "metadata": {},
   "source": [
    "<h1>Salary Prediciton Notebook</h1>"
   ]
  },
  {
   "cell_type": "markdown",
   "id": "04493320",
   "metadata": {},
   "source": [
    "<h2>1 - Introduction</h2>\n",
    "in this notebook I am going to study effects of different qualifications on the salary of an advertised position"
   ]
  },
  {
   "cell_type": "markdown",
   "id": "d2c9a0ac",
   "metadata": {},
   "source": [
    "<h2>2 - The Data</h2>\n",
    "The data used in this analysis comes from bonus portfolio course from Data Science Dream Job (DSDJ)\n",
    "and it contains the following:\n",
    "<ul>\n",
    "    <li><b>jobId:</b> a unique identifier of the job listing</li>\n",
    "    <li><b>companyId:</b> a unique identifier of the comany that listed the job</li>\n",
    "    <li><b>jobType:</b> the level of seniority</li>\n",
    "    <li><b>industry:</b> the industry under which the job falls</li>\n",
    "    <li><b>degree:</b> the minimum level of education required for the job</li>\n",
    "    <li><b>major:</b> the major required for the job</li>\n",
    "    <li><b>yearsExperience:</b> the years of experience requires for the job</li>\n",
    "    <li><b>mileFromMetropolis:</b> the distance of the job location from the city center</li>\n",
    "    <li><b>salary:</b> the salary of the advertised job</li>\n",
    "</ul>"
   ]
  },
  {
   "cell_type": "code",
   "execution_count": 40,
   "id": "57dd61ae",
   "metadata": {},
   "outputs": [],
   "source": [
    "import os\n",
    "\n",
    "import numpy as np\n",
    "import pandas as pd\n",
    "import matplotlib.pyplot as plt\n",
    "import seaborn as sns\n",
    "from sklearn.model_selection import train_test_split\n",
    "from sklearn.preprocessing import OneHotEncoder, StandardScaler, LabelEncoder, PolynomialFeatures\n",
    "from sklearn.compose import ColumnTransformer\n",
    "from sklearn.linear_model import Lasso\n",
    "from sklearn.pipeline import Pipeline\n",
    "from sklearn.metrics import mean_squared_error\n",
    "\n",
    "\n",
    "from eda_utils import generate_eda_basic_report\n",
    "\n",
    "import warnings\n",
    "warnings.filterwarnings('ignore')"
   ]
  },
  {
   "cell_type": "code",
   "execution_count": 2,
   "id": "03a59ca0",
   "metadata": {},
   "outputs": [],
   "source": [
    "df_job_listing_feature = pd.read_csv('.\\\\data\\\\train_features.csv')\n",
    "df_job_listing_salaries = pd.read_csv('.\\\\data\\\\train_salaries.csv')\n",
    "df_job_listings_unprocessed = df_job_listing_feature.merge(df_job_listing_salaries, on='jobId')"
   ]
  },
  {
   "cell_type": "code",
   "execution_count": 3,
   "id": "843bf39b",
   "metadata": {},
   "outputs": [
    {
     "data": {
      "text/plain": [
       "Index(['jobId', 'companyId', 'jobType', 'degree', 'major', 'industry',\n",
       "       'yearsExperience', 'milesFromMetropolis', 'salary'],\n",
       "      dtype='object')"
      ]
     },
     "execution_count": 3,
     "metadata": {},
     "output_type": "execute_result"
    }
   ],
   "source": [
    "df_job_listings_unprocessed.columns"
   ]
  },
  {
   "cell_type": "markdown",
   "id": "91a215a0",
   "metadata": {},
   "source": [
    "<h2>3 - EDA</h2><br/>\n",
    "In this section we will explore the data in order to understand it further and maybe find some hidden insight that will help us in our modeling later"
   ]
  },
  {
   "cell_type": "code",
   "execution_count": 4,
   "id": "e686ca82",
   "metadata": {},
   "outputs": [
    {
     "data": {
      "text/plain": [
       "(1000000, 9)"
      ]
     },
     "execution_count": 4,
     "metadata": {},
     "output_type": "execute_result"
    }
   ],
   "source": [
    "df_job_listings_unprocessed.shape"
   ]
  },
  {
   "cell_type": "code",
   "execution_count": 5,
   "id": "11bcf0ab",
   "metadata": {},
   "outputs": [
    {
     "data": {
      "text/plain": [
       "jobId                  object\n",
       "companyId              object\n",
       "jobType                object\n",
       "degree                 object\n",
       "major                  object\n",
       "industry               object\n",
       "yearsExperience         int64\n",
       "milesFromMetropolis     int64\n",
       "salary                  int64\n",
       "dtype: object"
      ]
     },
     "execution_count": 5,
     "metadata": {},
     "output_type": "execute_result"
    }
   ],
   "source": [
    "df_job_listings_unprocessed.dtypes"
   ]
  },
  {
   "cell_type": "code",
   "execution_count": 6,
   "id": "743da02c",
   "metadata": {},
   "outputs": [],
   "source": [
    "object_columns = ['jobId', 'companyId', 'jobType', 'degree', 'major', 'industry']\n",
    "num_columns = ['yearsExperience', 'milesFromMetropolis', 'salary']"
   ]
  },
  {
   "cell_type": "code",
   "execution_count": 7,
   "id": "ba13e2a9",
   "metadata": {},
   "outputs": [],
   "source": [
    "report_path = 'Eda_Reports'\n",
    "generate_eda_basic_report(df_job_listings_unprocessed[object_columns], path = report_path, file_name = 'cat_variables')\n",
    "generate_eda_basic_report(df_job_listings_unprocessed[num_columns], path = report_path, file_name = 'num_variables',\n",
    "                         include_value_counts = False)"
   ]
  },
  {
   "cell_type": "code",
   "execution_count": 7,
   "id": "8aad1404",
   "metadata": {},
   "outputs": [],
   "source": [
    "cat_features = [ 'jobType', 'degree', 'major', 'industry']\n",
    "num_features = ['yearsExperience', 'milesFromMetropolis']\n",
    "target_variable = ['salary']"
   ]
  },
  {
   "cell_type": "code",
   "execution_count": 8,
   "id": "00d70d07",
   "metadata": {},
   "outputs": [],
   "source": [
    "df_job_listings_real_salaries = df_job_listings_unprocessed[df_job_listings_unprocessed['salary'] != 0]"
   ]
  },
  {
   "cell_type": "code",
   "execution_count": 9,
   "id": "ccefd5b0",
   "metadata": {},
   "outputs": [
    {
     "data": {
      "text/plain": [
       "(999995, 9)"
      ]
     },
     "execution_count": 9,
     "metadata": {},
     "output_type": "execute_result"
    }
   ],
   "source": [
    "df_job_listings_real_salaries.shape"
   ]
  },
  {
   "cell_type": "code",
   "execution_count": 10,
   "id": "daad40bf",
   "metadata": {},
   "outputs": [
    {
     "data": {
      "text/html": [
       "<div>\n",
       "<style scoped>\n",
       "    .dataframe tbody tr th:only-of-type {\n",
       "        vertical-align: middle;\n",
       "    }\n",
       "\n",
       "    .dataframe tbody tr th {\n",
       "        vertical-align: top;\n",
       "    }\n",
       "\n",
       "    .dataframe thead th {\n",
       "        text-align: right;\n",
       "    }\n",
       "</style>\n",
       "<table border=\"1\" class=\"dataframe\">\n",
       "  <thead>\n",
       "    <tr style=\"text-align: right;\">\n",
       "      <th></th>\n",
       "      <th>yearsExperience</th>\n",
       "      <th>milesFromMetropolis</th>\n",
       "      <th>salary</th>\n",
       "    </tr>\n",
       "  </thead>\n",
       "  <tbody>\n",
       "    <tr>\n",
       "      <th>yearsExperience</th>\n",
       "      <td>1.000000</td>\n",
       "      <td>0.000672</td>\n",
       "      <td>0.375013</td>\n",
       "    </tr>\n",
       "    <tr>\n",
       "      <th>milesFromMetropolis</th>\n",
       "      <td>0.000672</td>\n",
       "      <td>1.000000</td>\n",
       "      <td>-0.297686</td>\n",
       "    </tr>\n",
       "    <tr>\n",
       "      <th>salary</th>\n",
       "      <td>0.375013</td>\n",
       "      <td>-0.297686</td>\n",
       "      <td>1.000000</td>\n",
       "    </tr>\n",
       "  </tbody>\n",
       "</table>\n",
       "</div>"
      ],
      "text/plain": [
       "                     yearsExperience  milesFromMetropolis    salary\n",
       "yearsExperience             1.000000             0.000672  0.375013\n",
       "milesFromMetropolis         0.000672             1.000000 -0.297686\n",
       "salary                      0.375013            -0.297686  1.000000"
      ]
     },
     "execution_count": 10,
     "metadata": {},
     "output_type": "execute_result"
    }
   ],
   "source": [
    "corelation_matrix = df_job_listings_real_salaries[num_features + target_variable].corr()\n",
    "corelation_matrix"
   ]
  },
  {
   "cell_type": "code",
   "execution_count": 11,
   "id": "ba633822",
   "metadata": {},
   "outputs": [
    {
     "data": {
      "text/plain": [
       "<matplotlib.axes._subplots.AxesSubplot at 0x1301f790>"
      ]
     },
     "execution_count": 11,
     "metadata": {},
     "output_type": "execute_result"
    },
    {
     "data": {
      "image/png": "[encoded data removed]",
      "text/plain": [
       "<Figure size 576x576 with 2 Axes>"
      ]
     },
     "metadata": {
      "needs_background": "light"
     },
     "output_type": "display_data"
    }
   ],
   "source": [
    "plt.figure(figsize=(8, 8))\n",
    "sns.heatmap(corelation_matrix, cmap='Blues')"
   ]
  },
  {
   "cell_type": "markdown",
   "id": "eddf57da",
   "metadata": {},
   "source": [
    "<h2>Result:</h2>\n",
    "We see from the above that the salary has an inverse corelation with the milesFromMetropolis variable<br>\n",
    "and a positive one with the years of experience while the two variables appear to be linearly independent<br>\n",
    "of each other"
   ]
  },
  {
   "cell_type": "markdown",
   "id": "4149e4e5",
   "metadata": {},
   "source": [
    "<h5>Now we will examine the relationship of each variable alone and its relationship with the dependent variable</h5>"
   ]
  },
  {
   "cell_type": "code",
   "execution_count": 12,
   "id": "a423d437",
   "metadata": {},
   "outputs": [
    {
     "data": {
      "text/plain": [
       "<matplotlib.axes._subplots.AxesSubplot at 0x17604150>"
      ]
     },
     "execution_count": 12,
     "metadata": {},
     "output_type": "execute_result"
    },
    {
     "data": {
      "image/png": "[encoded data removed]",
      "text/plain": [
       "<Figure size 1080x576 with 1 Axes>"
      ]
     },
     "metadata": {
      "needs_background": "light"
     },
     "output_type": "display_data"
    }
   ],
   "source": [
    "plt.figure(figsize=(15, 8))\n",
    "sns.histplot(data = df_job_listings_real_salaries,x = df_job_listings_real_salaries['yearsExperience'], color = 'Blue',\n",
    "            alpha = 0.5)"
   ]
  },
  {
   "cell_type": "code",
   "execution_count": 13,
   "id": "173f3f22",
   "metadata": {},
   "outputs": [
    {
     "data": {
      "text/plain": [
       "<matplotlib.axes._subplots.AxesSubplot at 0x13e5de30>"
      ]
     },
     "execution_count": 13,
     "metadata": {},
     "output_type": "execute_result"
    },
    {
     "data": {
      "image/png": "[encoded data removed]",
      "text/plain": [
       "<Figure size 1080x576 with 1 Axes>"
      ]
     },
     "metadata": {
      "needs_background": "light"
     },
     "output_type": "display_data"
    }
   ],
   "source": [
    "plt.figure(figsize=(15, 8))\n",
    "sns.histplot(data = df_job_listings_real_salaries,x = df_job_listings_real_salaries['milesFromMetropolis'], color = 'Blue',\n",
    "            alpha = 0.5)"
   ]
  },
  {
   "cell_type": "code",
   "execution_count": 14,
   "id": "d28638ed",
   "metadata": {},
   "outputs": [
    {
     "data": {
      "text/plain": [
       "<matplotlib.axes._subplots.AxesSubplot at 0x140590d0>"
      ]
     },
     "execution_count": 14,
     "metadata": {},
     "output_type": "execute_result"
    },
    {
     "data": {
      "image/png": "[encoded data removed]",
      "text/plain": [
       "<Figure size 1080x576 with 1 Axes>"
      ]
     },
     "metadata": {
      "needs_background": "light"
     },
     "output_type": "display_data"
    }
   ],
   "source": [
    "plt.figure(figsize=(15, 8))\n",
    "sns.distplot(df_job_listings_real_salaries['salary'], color = 'Blue')"
   ]
  },
  {
   "cell_type": "code",
   "execution_count": 15,
   "id": "9fe21cd2",
   "metadata": {},
   "outputs": [],
   "source": [
    "df_job_types_count = df_job_listings_real_salaries.groupby(['jobType'])['jobType'].agg(['count']).reset_index()\n",
    "df_degree_count = df_job_listings_real_salaries.groupby(['degree'])['degree'].agg(['count']).reset_index()\n",
    "df_industry_count = df_job_listings_real_salaries.groupby(['industry'])['industry'].agg(['count']).reset_index()\n",
    "df_major_count = df_job_listings_real_salaries.groupby(['major'])['major'].agg(['count']).reset_index()"
   ]
  },
  {
   "cell_type": "code",
   "execution_count": 16,
   "id": "c83d85d7",
   "metadata": {},
   "outputs": [
    {
     "data": {
      "text/plain": [
       "<BarContainer object of 9 artists>"
      ]
     },
     "execution_count": 16,
     "metadata": {},
     "output_type": "execute_result"
    },
    {
     "data": {
      "image/png": "[encoded data removed]",
      "text/plain": [
       "<Figure size 1296x720 with 1 Axes>"
      ]
     },
     "metadata": {
      "needs_background": "light"
     },
     "output_type": "display_data"
    },
    {
     "data": {
      "image/png": "[encoded data removed]",
      "text/plain": [
       "<Figure size 1296x720 with 1 Axes>"
      ]
     },
     "metadata": {
      "needs_background": "light"
     },
     "output_type": "display_data"
    },
    {
     "data": {
      "image/png": "[encoded data removed]",
      "text/plain": [
       "<Figure size 1296x720 with 1 Axes>"
      ]
     },
     "metadata": {
      "needs_background": "light"
     },
     "output_type": "display_data"
    },
    {
     "data": {
      "image/png": "[encoded data removed]",
      "text/plain": [
       "<Figure size 1296x720 with 1 Axes>"
      ]
     },
     "metadata": {
      "needs_background": "light"
     },
     "output_type": "display_data"
    }
   ],
   "source": [
    "plt.figure(figsize=(18,10))\n",
    "plt.subplot(4, 1, 1)\n",
    "plt.bar(x = 'jobType', height = 'count', data = df_job_types_count)\n",
    "\n",
    "plt.figure(figsize=(18,10))\n",
    "plt.subplot(4, 1, 2)\n",
    "plt.bar(x = 'industry', height = 'count', data = df_industry_count)\n",
    "\n",
    "plt.figure(figsize=(18,10))\n",
    "plt.subplot(4, 1, 3)\n",
    "plt.bar(x = 'degree', height = 'count', data = df_degree_count)\n",
    "\n",
    "plt.figure(figsize=(18,10))\n",
    "plt.subplot(4, 1, 4)\n",
    "plt.bar(x = 'major', height = 'count', data = df_major_count)\n"
   ]
  },
  {
   "cell_type": "code",
   "execution_count": 18,
   "id": "ece0ee99",
   "metadata": {},
   "outputs": [
    {
     "data": {
      "text/plain": [
       "<matplotlib.axes._subplots.AxesSubplot at 0x14be0750>"
      ]
     },
     "execution_count": 18,
     "metadata": {},
     "output_type": "execute_result"
    },
    {
     "data": {
      "image/png": "[encoded data removed]",
      "text/plain": [
       "<Figure size 1080x576 with 1 Axes>"
      ]
     },
     "metadata": {
      "needs_background": "light"
     },
     "output_type": "display_data"
    }
   ],
   "source": [
    "plt.figure(figsize=(15, 8))\n",
    "sns.histplot(x = df_job_listings_real_salaries['yearsExperience'], y = df_job_listings_real_salaries['salary']\n",
    "            ,color='Blue')"
   ]
  },
  {
   "cell_type": "code",
   "execution_count": 20,
   "id": "02a8887c",
   "metadata": {},
   "outputs": [
    {
     "data": {
      "text/plain": [
       "<matplotlib.collections.PathCollection at 0x986950>"
      ]
     },
     "execution_count": 20,
     "metadata": {},
     "output_type": "execute_result"
    },
    {
     "data": {
      "image/png": "[encoded data removed]",
      "text/plain": [
       "<Figure size 1080x576 with 1 Axes>"
      ]
     },
     "metadata": {
      "needs_background": "light"
     },
     "output_type": "display_data"
    }
   ],
   "source": [
    "plt.figure(figsize=(15, 8))\n",
    "plt.scatter(x = df_job_listings_real_salaries['milesFromMetropolis'], y = df_job_listings_real_salaries['salary']\n",
    "            ,color='Blue')"
   ]
  },
  {
   "cell_type": "code",
   "execution_count": 26,
   "id": "a56b30cf",
   "metadata": {},
   "outputs": [],
   "source": [
    "df_job_types_industry_stats = df_job_listings_real_salaries\\\n",
    ".groupby(['jobType', 'industry'])['salary'].agg(['sum', 'mean', 'median', 'min', 'max']).reset_index()\n",
    "\n",
    "df_degree_stats = df_job_listings_real_salaries\\\n",
    ".groupby(['degree'])['salary'].agg(['sum', 'mean', 'median', 'min', 'max']).reset_index()\n",
    "\n",
    "df_industry_stats = df_job_listings_real_salaries\\\n",
    ".groupby(['industry'])['salary'].agg(['sum', 'mean', 'median', 'min', 'max']).reset_index()\n",
    "\n",
    "df_major_stats = df_job_listings_real_salaries\\\n",
    ".groupby(['major'])['salary'].agg(['sum', 'mean', 'median', 'min', 'max']).reset_index()"
   ]
  },
  {
   "cell_type": "code",
   "execution_count": 27,
   "id": "c08bee6e",
   "metadata": {},
   "outputs": [],
   "source": [
    "df_job_types_industry_stats.sort_values(['industry']).to_csv('job_type_by_industry.csv')\n",
    "df_degree_stats.to_csv('degree_value_stats.csv')\n",
    "df_industry_stats.to_csv('industry_value_stats.csv')\n",
    "df_major_stats.to_csv('major_value_stats.csv')"
   ]
  },
  {
   "cell_type": "markdown",
   "id": "76735928",
   "metadata": {},
   "source": [
    "<h2>EDA Results:</h2>\n",
    "  <ul>\n",
    "   <li>I found five entires where salary is zero which does not make sense and since it is a very smal ratio\n",
    "      of the data we dropped those five rows\n",
    "   </li><br/>\n",
    "   <li>The salary field seems to follow a near normal distribution</li>\n",
    "   <li>I observed through multiple methods (statistically and visually) that the salary variable seems to have\n",
    "      a positive relationship with the yearsExprerience variable and an inverse relationship with the milesFromMetropolis\n",
    "      variable.\n",
    "   </li><br/>\n",
    "   <li>The data is uniformally distibuted for both the job_type and the industry variables which is a positive thing\n",
    "      since there seems to be no imbalances\n",
    "   </li><br/>\n",
    "   <li>As for the \"degree\" variable I found that people with no degree or only high school degree seems to represent the \n",
    "       majority of people in the sample and an equal distribution for the rest of degree types\n",
    "   </li><br/>\n",
    "   <li>As for the \"major\" variable I found that it is mostly uniformally distributed with the exception of the people\n",
    "       with no major as they have a higher count than the rest which makes sense given what I found about the \"degree\" variable\n",
    "   </li><br/>\n",
    "   <li>\n",
    "       I found that CTO and CFO job_types has both similar disribution and salary statistics across industries, thus it can\n",
    "       be beneficial to merge them into one feature in order to reduce the number of features when we apply one hot encoding\n",
    "   </li>\n",
    "  </ul>\n"
   ]
  },
  {
   "cell_type": "markdown",
   "id": "c304cbee",
   "metadata": {},
   "source": [
    "<h2>4 - Data Preprocessing</h2>"
   ]
  },
  {
   "cell_type": "markdown",
   "id": "48c6f433",
   "metadata": {},
   "source": [
    "<h5>For data preprocessing I am going to apply the following steps</h5>\n",
    "<ul>\n",
    "    <li>For numrical features I am going to extract polynomial features and then apply standard scaler</li>\n",
    "    <li>For categorical features I am going to use only one hot enconding</li>\n",
    "    <li>I am going to split the data into training and testing sets and since I will not be applying cross validation\n",
    "        for the purpose of this study I will be needing a development set\n",
    "    </li>\n",
    "</ul>"
   ]
  },
  {
   "cell_type": "code",
   "execution_count": 29,
   "id": "e6e0ce6a",
   "metadata": {},
   "outputs": [],
   "source": [
    "df_features = df_job_listings_real_salaries[cat_features + num_features]\n",
    "df_target = df_job_listings_real_salaries[target_variable]"
   ]
  },
  {
   "cell_type": "code",
   "execution_count": 31,
   "id": "3b072ded",
   "metadata": {},
   "outputs": [
    {
     "data": {
      "text/plain": [
       "CO                249414\n",
       "SENIOR            125886\n",
       "VICE_PRESIDENT    125234\n",
       "MANAGER           125120\n",
       "JANITOR           124971\n",
       "CEO               124778\n",
       "JUNIOR            124592\n",
       "Name: jobType, dtype: int64"
      ]
     },
     "execution_count": 31,
     "metadata": {},
     "output_type": "execute_result"
    }
   ],
   "source": [
    "df_features['jobType'] = df_features['jobType'].replace(to_replace = {'CFO' : 'CO', 'CTO': 'CO'})\n",
    "df_features['jobType'].value_counts()"
   ]
  },
  {
   "cell_type": "code",
   "execution_count": 34,
   "id": "809b14c5",
   "metadata": {},
   "outputs": [],
   "source": [
    "poly = PolynomialFeatures(include_bias=False, degree=2)\n",
    "num_transformer = Pipeline(steps=[('poly', poly), ('scaler', StandardScaler())])\n",
    "cat_transformer = OneHotEncoder()"
   ]
  },
  {
   "cell_type": "code",
   "execution_count": 35,
   "id": "bfb38084",
   "metadata": {},
   "outputs": [],
   "source": [
    "preprocessor = ColumnTransformer(\n",
    "      transformers=[\n",
    "          ('num', num_transformer, num_features), \n",
    "          ('cat', cat_transformer, cat_features)] ,remainder='drop')"
   ]
  },
  {
   "cell_type": "code",
   "execution_count": 37,
   "id": "e7cd8ab2",
   "metadata": {},
   "outputs": [],
   "source": [
    "X_train, X_test, y_train, y_test = train_test_split(df_features, df_target, test_size=0.02, random_state = 4589637)"
   ]
  },
  {
   "cell_type": "markdown",
   "id": "187cb38c",
   "metadata": {},
   "source": [
    "<h2>5 - Modeling</h2>"
   ]
  },
  {
   "cell_type": "markdown",
   "id": "bca36268",
   "metadata": {},
   "source": [
    "for modeling I am going to use Lasso regression, I made this choice because my purpose of this study is more informative\n",
    "rather than predictive and since Lasso uses L1 regularization which one of its properties is the fact it turn off features\n",
    "that are not particularly useful by setting their coefficients to zero"
   ]
  },
  {
   "cell_type": "code",
   "execution_count": 36,
   "id": "938c69c1",
   "metadata": {},
   "outputs": [],
   "source": [
    "final_pipe = Pipeline(steps=[('preprocessor',preprocessor), ('model', Lasso(max_iter=400000, alpha = 1e-2))])"
   ]
  },
  {
   "cell_type": "code",
   "execution_count": 41,
   "id": "745f39d1",
   "metadata": {},
   "outputs": [
    {
     "data": {
      "text/plain": [
       "Pipeline(steps=[('preprocessor',\n",
       "                 ColumnTransformer(transformers=[('num',\n",
       "                                                  Pipeline(steps=[('poly',\n",
       "                                                                   PolynomialFeatures(include_bias=False)),\n",
       "                                                                  ('scaler',\n",
       "                                                                   StandardScaler())]),\n",
       "                                                  ['yearsExperience',\n",
       "                                                   'milesFromMetropolis']),\n",
       "                                                 ('cat', OneHotEncoder(),\n",
       "                                                  ['jobType', 'degree', 'major',\n",
       "                                                   'industry'])])),\n",
       "                ('model', Lasso(alpha=0.01, max_iter=400000))])"
      ]
     },
     "execution_count": 41,
     "metadata": {},
     "output_type": "execute_result"
    }
   ],
   "source": [
    "final_pipe.fit(X_train, y_train)"
   ]
  },
  {
   "cell_type": "code",
   "execution_count": 42,
   "id": "cdc79d59",
   "metadata": {},
   "outputs": [],
   "source": [
    "y_train_pred = final_pipe.predict(X_train)\n",
    "y_test_pred = final_pipe.predict(X_test)"
   ]
  },
  {
   "cell_type": "code",
   "execution_count": 44,
   "id": "f74b99ee",
   "metadata": {},
   "outputs": [
    {
     "name": "stdout",
     "output_type": "stream",
     "text": [
      "The mean squared error for the training set is 367.1743105314582\n",
      "The mean squared error for the Testing set is 364.4254079134165\n"
     ]
    }
   ],
   "source": [
    "print('The mean squared error for the training set is {}'.format(mean_squared_error(y_train, y_train_pred)))\n",
    "print('The mean squared error for the Testing set is {}'.format(mean_squared_error(y_test, y_test_pred)))"
   ]
  },
  {
   "cell_type": "code",
   "execution_count": 47,
   "id": "f8adc4dc",
   "metadata": {},
   "outputs": [],
   "source": [
    "polynomial_features_names = final_pipe.named_steps['preprocessor'].named_transformers_['num']\\\n",
    ".named_steps['poly'].get_feature_names(num_features)\n",
    "\n",
    "one_hot_features_names = final_pipe.named_steps['preprocessor'].named_transformers_['cat'].get_feature_names(cat_features)\n",
    "\n",
    "all_features_names = list(polynomial_features_names) + list(one_hot_features_names)"
   ]
  },
  {
   "cell_type": "code",
   "execution_count": 51,
   "id": "4d4e31f3",
   "metadata": {},
   "outputs": [
    {
     "data": {
      "text/html": [
       "<div>\n",
       "<style scoped>\n",
       "    .dataframe tbody tr th:only-of-type {\n",
       "        vertical-align: middle;\n",
       "    }\n",
       "\n",
       "    .dataframe tbody tr th {\n",
       "        vertical-align: top;\n",
       "    }\n",
       "\n",
       "    .dataframe thead th {\n",
       "        text-align: right;\n",
       "    }\n",
       "</style>\n",
       "<table border=\"1\" class=\"dataframe\">\n",
       "  <thead>\n",
       "    <tr style=\"text-align: right;\">\n",
       "      <th></th>\n",
       "      <th>coef</th>\n",
       "      <th>feature</th>\n",
       "    </tr>\n",
       "  </thead>\n",
       "  <tbody>\n",
       "    <tr>\n",
       "      <th>5</th>\n",
       "      <td>29.779709</td>\n",
       "      <td>jobType_CEO</td>\n",
       "    </tr>\n",
       "    <tr>\n",
       "      <th>0</th>\n",
       "      <td>21.562261</td>\n",
       "      <td>yearsExperience</td>\n",
       "    </tr>\n",
       "    <tr>\n",
       "      <th>6</th>\n",
       "      <td>20.009696</td>\n",
       "      <td>jobType_CO</td>\n",
       "    </tr>\n",
       "    <tr>\n",
       "      <th>30</th>\n",
       "      <td>15.013205</td>\n",
       "      <td>industry_OIL</td>\n",
       "    </tr>\n",
       "    <tr>\n",
       "      <th>28</th>\n",
       "      <td>14.859294</td>\n",
       "      <td>industry_FINANCE</td>\n",
       "    </tr>\n",
       "    <tr>\n",
       "      <th>13</th>\n",
       "      <td>9.956239</td>\n",
       "      <td>degree_DOCTORAL</td>\n",
       "    </tr>\n",
       "    <tr>\n",
       "      <th>11</th>\n",
       "      <td>9.827302</td>\n",
       "      <td>jobType_VICE_PRESIDENT</td>\n",
       "    </tr>\n",
       "    <tr>\n",
       "      <th>21</th>\n",
       "      <td>8.078796</td>\n",
       "      <td>major_ENGINEERING</td>\n",
       "    </tr>\n",
       "    <tr>\n",
       "      <th>32</th>\n",
       "      <td>5.807705</td>\n",
       "      <td>industry_WEB</td>\n",
       "    </tr>\n",
       "    <tr>\n",
       "      <th>18</th>\n",
       "      <td>5.175590</td>\n",
       "      <td>major_BUSINESS</td>\n",
       "    </tr>\n",
       "    <tr>\n",
       "      <th>15</th>\n",
       "      <td>4.927690</td>\n",
       "      <td>degree_MASTERS</td>\n",
       "    </tr>\n",
       "    <tr>\n",
       "      <th>23</th>\n",
       "      <td>2.615561</td>\n",
       "      <td>major_MATH</td>\n",
       "    </tr>\n",
       "    <tr>\n",
       "      <th>20</th>\n",
       "      <td>1.526933</td>\n",
       "      <td>major_COMPSCI</td>\n",
       "    </tr>\n",
       "    <tr>\n",
       "      <th>2</th>\n",
       "      <td>0.011377</td>\n",
       "      <td>yearsExperience^2</td>\n",
       "    </tr>\n",
       "    <tr>\n",
       "      <th>9</th>\n",
       "      <td>0.000000</td>\n",
       "      <td>jobType_MANAGER</td>\n",
       "    </tr>\n",
       "    <tr>\n",
       "      <th>29</th>\n",
       "      <td>0.000000</td>\n",
       "      <td>industry_HEALTH</td>\n",
       "    </tr>\n",
       "    <tr>\n",
       "      <th>25</th>\n",
       "      <td>-0.000000</td>\n",
       "      <td>major_PHYSICS</td>\n",
       "    </tr>\n",
       "    <tr>\n",
       "      <th>4</th>\n",
       "      <td>-0.000000</td>\n",
       "      <td>milesFromMetropolis^2</td>\n",
       "    </tr>\n",
       "    <tr>\n",
       "      <th>12</th>\n",
       "      <td>-0.000000</td>\n",
       "      <td>degree_BACHELORS</td>\n",
       "    </tr>\n",
       "    <tr>\n",
       "      <th>19</th>\n",
       "      <td>-1.077211</td>\n",
       "      <td>major_CHEMISTRY</td>\n",
       "    </tr>\n",
       "    <tr>\n",
       "      <th>17</th>\n",
       "      <td>-2.203834</td>\n",
       "      <td>major_BIOLOGY</td>\n",
       "    </tr>\n",
       "    <tr>\n",
       "      <th>1</th>\n",
       "      <td>-4.665328</td>\n",
       "      <td>milesFromMetropolis</td>\n",
       "    </tr>\n",
       "    <tr>\n",
       "      <th>14</th>\n",
       "      <td>-5.536245</td>\n",
       "      <td>degree_HIGH_SCHOOL</td>\n",
       "    </tr>\n",
       "    <tr>\n",
       "      <th>22</th>\n",
       "      <td>-5.795628</td>\n",
       "      <td>major_LITERATURE</td>\n",
       "    </tr>\n",
       "    <tr>\n",
       "      <th>26</th>\n",
       "      <td>-6.145134</td>\n",
       "      <td>industry_AUTO</td>\n",
       "    </tr>\n",
       "    <tr>\n",
       "      <th>24</th>\n",
       "      <td>-7.476118</td>\n",
       "      <td>major_NONE</td>\n",
       "    </tr>\n",
       "    <tr>\n",
       "      <th>16</th>\n",
       "      <td>-9.222786</td>\n",
       "      <td>degree_NONE</td>\n",
       "    </tr>\n",
       "    <tr>\n",
       "      <th>10</th>\n",
       "      <td>-9.865473</td>\n",
       "      <td>jobType_SENIOR</td>\n",
       "    </tr>\n",
       "    <tr>\n",
       "      <th>3</th>\n",
       "      <td>-10.696260</td>\n",
       "      <td>yearsExperience milesFromMetropolis</td>\n",
       "    </tr>\n",
       "    <tr>\n",
       "      <th>31</th>\n",
       "      <td>-11.140139</td>\n",
       "      <td>industry_SERVICE</td>\n",
       "    </tr>\n",
       "    <tr>\n",
       "      <th>27</th>\n",
       "      <td>-16.153715</td>\n",
       "      <td>industry_EDUCATION</td>\n",
       "    </tr>\n",
       "    <tr>\n",
       "      <th>8</th>\n",
       "      <td>-19.873412</td>\n",
       "      <td>jobType_JUNIOR</td>\n",
       "    </tr>\n",
       "    <tr>\n",
       "      <th>7</th>\n",
       "      <td>-32.497240</td>\n",
       "      <td>jobType_JANITOR</td>\n",
       "    </tr>\n",
       "  </tbody>\n",
       "</table>\n",
       "</div>"
      ],
      "text/plain": [
       "         coef                              feature\n",
       "5   29.779709                          jobType_CEO\n",
       "0   21.562261                      yearsExperience\n",
       "6   20.009696                           jobType_CO\n",
       "30  15.013205                         industry_OIL\n",
       "28  14.859294                     industry_FINANCE\n",
       "13   9.956239                      degree_DOCTORAL\n",
       "11   9.827302               jobType_VICE_PRESIDENT\n",
       "21   8.078796                    major_ENGINEERING\n",
       "32   5.807705                         industry_WEB\n",
       "18   5.175590                       major_BUSINESS\n",
       "15   4.927690                       degree_MASTERS\n",
       "23   2.615561                           major_MATH\n",
       "20   1.526933                        major_COMPSCI\n",
       "2    0.011377                    yearsExperience^2\n",
       "9    0.000000                      jobType_MANAGER\n",
       "29   0.000000                      industry_HEALTH\n",
       "25  -0.000000                        major_PHYSICS\n",
       "4   -0.000000                milesFromMetropolis^2\n",
       "12  -0.000000                     degree_BACHELORS\n",
       "19  -1.077211                      major_CHEMISTRY\n",
       "17  -2.203834                        major_BIOLOGY\n",
       "1   -4.665328                  milesFromMetropolis\n",
       "14  -5.536245                   degree_HIGH_SCHOOL\n",
       "22  -5.795628                     major_LITERATURE\n",
       "26  -6.145134                        industry_AUTO\n",
       "24  -7.476118                           major_NONE\n",
       "16  -9.222786                          degree_NONE\n",
       "10  -9.865473                       jobType_SENIOR\n",
       "3  -10.696260  yearsExperience milesFromMetropolis\n",
       "31 -11.140139                     industry_SERVICE\n",
       "27 -16.153715                   industry_EDUCATION\n",
       "8  -19.873412                       jobType_JUNIOR\n",
       "7  -32.497240                      jobType_JANITOR"
      ]
     },
     "execution_count": 51,
     "metadata": {},
     "output_type": "execute_result"
    }
   ],
   "source": [
    "coef_df = pd.DataFrame(final_pipe.named_steps['model'].coef_)\n",
    "coef_df['column'] = pd.Series(data=all_features_names)\n",
    "coef_df.columns = ['coef', 'feature']\n",
    "coef_df.sort_values(by = ['coef'], ascending = False)"
   ]
  },
  {
   "cell_type": "markdown",
   "id": "0b9e9d25",
   "metadata": {},
   "source": [
    "<h2>6 - Findings and Insights</h2>"
   ]
  },
  {
   "cell_type": "markdown",
   "id": "2e2ef6fc",
   "metadata": {},
   "source": [
    "<ul>\n",
    "    <li>we see that the greatest effect is the position as the greates positve effects include come from cheif officers\n",
    "        (CEO, CTO, CFO), and the greatest negative effect comes from the janitor position.\n",
    "    </li><br>\n",
    "    <li>We observe that years of experience also has a huge positive effect on salary</li><br>\n",
    "    <li>We also observe that the Oil and Finance industries has a large positve effect on the salary while\n",
    "        the Service and Education industries seems to be mostly associated with lower salaries\n",
    "    </li><br>\n",
    "    <li>As we see bachelor degree does not seem to have a direct effect on salary while the higher the education\n",
    "        the higher thepoistive effect it will have on salary and same goes for negative effect the lower the education\n",
    "    </li>\n",
    "</ul>"
   ]
  },
  {
   "cell_type": "code",
   "execution_count": null,
   "id": "afc88b55",
   "metadata": {},
   "outputs": [],
   "source": []
  },
  {
   "cell_type": "code",
   "execution_count": null,
   "id": "fd3ed8c4",
   "metadata": {},
   "outputs": [],
   "source": []
  },
  {
   "cell_type": "code",
   "execution_count": null,
   "id": "b09151f1",
   "metadata": {},
   "outputs": [],
   "source": []
  },
  {
   "cell_type": "code",
   "execution_count": null,
   "id": "4948807b",
   "metadata": {},
   "outputs": [],
   "source": []
  }
 ],
 "metadata": {
  "kernelspec": {
   "display_name": "Python 3 (ipykernel)",
   "language": "python",
   "name": "python3"
  },
  "language_info": {
   "codemirror_mode": {
    "name": "ipython",
    "version": 3
   },
   "file_extension": ".py",
   "mimetype": "text/x-python",
   "name": "python",
   "nbconvert_exporter": "python",
   "pygments_lexer": "ipython3",
   "version": "3.7.2"
  }
 },
 "nbformat": 4,
 "nbformat_minor": 5
}
